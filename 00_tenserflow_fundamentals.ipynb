{
  "nbformat": 4,
  "nbformat_minor": 0,
  "metadata": {
    "colab": {
      "provenance": [],
      "authorship_tag": "ABX9TyOh06DyFOTQNuQqNeRyMNOv",
      "include_colab_link": true
    },
    "kernelspec": {
      "name": "python3",
      "display_name": "Python 3"
    },
    "language_info": {
      "name": "python"
    }
  },
  "cells": [
    {
      "cell_type": "markdown",
      "metadata": {
        "id": "view-in-github",
        "colab_type": "text"
      },
      "source": [
        "<a href=\"https://colab.research.google.com/github/Achyran/Achyran-TensorFlowNotes/blob/master/00_tenserflow_fundamentals.ipynb\" target=\"_parent\"><img src=\"https://colab.research.google.com/assets/colab-badge.svg\" alt=\"Open In Colab\"/></a>"
      ]
    },
    {
      "cell_type": "markdown",
      "source": [
        "#In this nootbook, we're going to cover the most fundamentals concepts of tensors using Tensorflow.\n",
        "\n",
        "More specifically, we're going to cover:\n",
        "* Introduction to tensors\n",
        "* Getting Information from Tensors\n",
        "* Manipulating Tensors\n",
        "* tensors & NumPy\n",
        "* using @tf.function\n",
        "* using GPUs with TensorFlow\n",
        "* Exerises"
      ],
      "metadata": {
        "id": "yDpi1gN_brV_"
      }
    },
    {
      "cell_type": "markdown",
      "source": [
        "#Introduction to Tensors\n"
      ],
      "metadata": {
        "id": "qDnDpvhqcZxk"
      }
    },
    {
      "cell_type": "code",
      "execution_count": 1,
      "metadata": {
        "colab": {
          "base_uri": "https://localhost:8080/"
        },
        "id": "tGlypVHdbI6A",
        "outputId": "ca460ee4-7231-447c-bbac-6ff787b6d701"
      },
      "outputs": [
        {
          "output_type": "stream",
          "name": "stdout",
          "text": [
            "2.15.0\n"
          ]
        }
      ],
      "source": [
        "#Import TensorFlow\n",
        "import tensorflow as tf\n",
        "print(tf.__version__)"
      ]
    },
    {
      "cell_type": "code",
      "source": [
        "# Create Tensors with tf.constant()\n",
        "scalar = tf.constant(2)\n",
        "scalar"
      ],
      "metadata": {
        "colab": {
          "base_uri": "https://localhost:8080/"
        },
        "id": "AV-8T07Gcyz0",
        "outputId": "cd96c4b6-3847-4af0-e6df-81ca31be7e9d"
      },
      "execution_count": 37,
      "outputs": [
        {
          "output_type": "execute_result",
          "data": {
            "text/plain": [
              "<tf.Tensor: shape=(), dtype=int32, numpy=2>"
            ]
          },
          "metadata": {},
          "execution_count": 37
        }
      ]
    },
    {
      "cell_type": "code",
      "source": [
        "# Check of numer of dimensions of a tensor (ndim)\n",
        "scalar.ndim"
      ],
      "metadata": {
        "colab": {
          "base_uri": "https://localhost:8080/"
        },
        "id": "1E4b5-vvdKYD",
        "outputId": "98c683fd-33f0-4182-a30d-3f215d742518"
      },
      "execution_count": 38,
      "outputs": [
        {
          "output_type": "execute_result",
          "data": {
            "text/plain": [
              "0"
            ]
          },
          "metadata": {},
          "execution_count": 38
        }
      ]
    },
    {
      "cell_type": "code",
      "source": [
        "#Create a vector\n",
        "vector = tf.constant([1,2])\n",
        "vector"
      ],
      "metadata": {
        "colab": {
          "base_uri": "https://localhost:8080/"
        },
        "id": "N76C7Cd3dhNh",
        "outputId": "158a9d09-2aac-4e13-c6b8-f217fbb65d20"
      },
      "execution_count": 6,
      "outputs": [
        {
          "output_type": "execute_result",
          "data": {
            "text/plain": [
              "<tf.Tensor: shape=(2,), dtype=int32, numpy=array([1, 2], dtype=int32)>"
            ]
          },
          "metadata": {},
          "execution_count": 6
        }
      ]
    },
    {
      "cell_type": "code",
      "source": [
        "# Ceck dimension of a Vector:\n",
        "vector.ndim"
      ],
      "metadata": {
        "colab": {
          "base_uri": "https://localhost:8080/"
        },
        "id": "w0AD7S0Wdw0-",
        "outputId": "debd2c66-fdd7-4380-9979-d75c3d58d6e3"
      },
      "execution_count": 7,
      "outputs": [
        {
          "output_type": "execute_result",
          "data": {
            "text/plain": [
              "1"
            ]
          },
          "metadata": {},
          "execution_count": 7
        }
      ]
    },
    {
      "cell_type": "code",
      "source": [
        "# Create a Matrix\n",
        "matrix = tf.constant([[3,7],\n",
        "                      [4,5]])\n",
        "matrix"
      ],
      "metadata": {
        "colab": {
          "base_uri": "https://localhost:8080/"
        },
        "id": "kMNI9WjYd3Jg",
        "outputId": "7850e1be-2f8b-4a85-ac74-0727acb43929"
      },
      "execution_count": 8,
      "outputs": [
        {
          "output_type": "execute_result",
          "data": {
            "text/plain": [
              "<tf.Tensor: shape=(2, 2), dtype=int32, numpy=\n",
              "array([[3, 7],\n",
              "       [4, 5]], dtype=int32)>"
            ]
          },
          "metadata": {},
          "execution_count": 8
        }
      ]
    },
    {
      "cell_type": "code",
      "source": [
        "# Check dimension of a Matrix\n",
        "matrix.ndim"
      ],
      "metadata": {
        "colab": {
          "base_uri": "https://localhost:8080/"
        },
        "id": "zMcZgOEheNUS",
        "outputId": "0b48babd-bdca-4c83-bbbc-da7b1b1a6882"
      },
      "execution_count": 9,
      "outputs": [
        {
          "output_type": "execute_result",
          "data": {
            "text/plain": [
              "2"
            ]
          },
          "metadata": {},
          "execution_count": 9
        }
      ]
    },
    {
      "cell_type": "code",
      "source": [
        "# Create another Matrix with type\n",
        "matrixf = tf.constant([[3.,7.],\n",
        "                      [4.,5.]], dtype=tf.float16) #Specify datetype\n",
        "matrixf"
      ],
      "metadata": {
        "colab": {
          "base_uri": "https://localhost:8080/"
        },
        "id": "dm7DgyV1fZJs",
        "outputId": "0aae4225-402a-4949-8442-a246e70eb305"
      },
      "execution_count": 15,
      "outputs": [
        {
          "output_type": "execute_result",
          "data": {
            "text/plain": [
              "<tf.Tensor: shape=(2, 2), dtype=float16, numpy=\n",
              "array([[3., 7.],\n",
              "       [4., 5.]], dtype=float16)>"
            ]
          },
          "metadata": {},
          "execution_count": 15
        }
      ]
    },
    {
      "cell_type": "code",
      "source": [
        "#Creating a Tensor\n",
        "tensor = tf.constant([[[1,2],[1,2],[1,2]]\n",
        "                      ,[[1,2],[1,2],[1,2]],\n",
        "                      [[1,2],[1,2],[1,2]],\n",
        "                       [[1,2],[1,2],[1,2]]])\n",
        "tensor\n"
      ],
      "metadata": {
        "colab": {
          "base_uri": "https://localhost:8080/"
        },
        "id": "jnkNOX8EeUZF",
        "outputId": "7ae8191f-ba8a-4c8d-912f-d3e99b8ee2bd"
      },
      "execution_count": 25,
      "outputs": [
        {
          "output_type": "execute_result",
          "data": {
            "text/plain": [
              "<tf.Tensor: shape=(4, 3, 2), dtype=int32, numpy=\n",
              "array([[[1, 2],\n",
              "        [1, 2],\n",
              "        [1, 2]],\n",
              "\n",
              "       [[1, 2],\n",
              "        [1, 2],\n",
              "        [1, 2]],\n",
              "\n",
              "       [[1, 2],\n",
              "        [1, 2],\n",
              "        [1, 2]],\n",
              "\n",
              "       [[1, 2],\n",
              "        [1, 2],\n",
              "        [1, 2]]], dtype=int32)>"
            ]
          },
          "metadata": {},
          "execution_count": 25
        }
      ]
    },
    {
      "cell_type": "code",
      "source": [
        "#tensor ndim\n",
        "tensor.ndim"
      ],
      "metadata": {
        "colab": {
          "base_uri": "https://localhost:8080/"
        },
        "id": "2fH_2DfKhFzu",
        "outputId": "4da20bb0-6f54-45fd-a406-e1d6a5642aed"
      },
      "execution_count": 26,
      "outputs": [
        {
          "output_type": "execute_result",
          "data": {
            "text/plain": [
              "3"
            ]
          },
          "metadata": {},
          "execution_count": 26
        }
      ]
    },
    {
      "cell_type": "code",
      "source": [
        "#Create a 4D Tensor\n",
        "tensor4D = tf.constant([\n",
        "                       [[[1],[1]],\n",
        "                        [[1],[1]],\n",
        "                        [[1],[1]]],\n",
        "                       [[[1],[1]],\n",
        "                        [[1],[1]],\n",
        "                        [[1],[1]]],\n",
        "                       [[[1],[1]],\n",
        "                        [[1],[1]],\n",
        "                        [[1],[1]]],\n",
        "                       [[[1],[1]],\n",
        "                        [[1],[1]],\n",
        "                        [[1],[1]]]])\n",
        "tensor4D\n",
        "\n",
        "#The number of shape is the amount of items in the array of the coresponding dimension"
      ],
      "metadata": {
        "colab": {
          "base_uri": "https://localhost:8080/"
        },
        "id": "iWXGJ4sQhR8b",
        "outputId": "e01f966a-cc06-46c3-c568-e373bad6a3d8"
      },
      "execution_count": 34,
      "outputs": [
        {
          "output_type": "execute_result",
          "data": {
            "text/plain": [
              "<tf.Tensor: shape=(4, 3, 2, 1), dtype=int32, numpy=\n",
              "array([[[[1],\n",
              "         [1]],\n",
              "\n",
              "        [[1],\n",
              "         [1]],\n",
              "\n",
              "        [[1],\n",
              "         [1]]],\n",
              "\n",
              "\n",
              "       [[[1],\n",
              "         [1]],\n",
              "\n",
              "        [[1],\n",
              "         [1]],\n",
              "\n",
              "        [[1],\n",
              "         [1]]],\n",
              "\n",
              "\n",
              "       [[[1],\n",
              "         [1]],\n",
              "\n",
              "        [[1],\n",
              "         [1]],\n",
              "\n",
              "        [[1],\n",
              "         [1]]],\n",
              "\n",
              "\n",
              "       [[[1],\n",
              "         [1]],\n",
              "\n",
              "        [[1],\n",
              "         [1]],\n",
              "\n",
              "        [[1],\n",
              "         [1]]]], dtype=int32)>"
            ]
          },
          "metadata": {},
          "execution_count": 34
        }
      ]
    },
    {
      "cell_type": "code",
      "source": [
        "tensor4D.ndim"
      ],
      "metadata": {
        "colab": {
          "base_uri": "https://localhost:8080/"
        },
        "id": "VhXo2H04j3S7",
        "outputId": "c6534517-ce19-4f79-c967-cb533d97a328"
      },
      "execution_count": 40,
      "outputs": [
        {
          "output_type": "execute_result",
          "data": {
            "text/plain": [
              "4"
            ]
          },
          "metadata": {},
          "execution_count": 40
        }
      ]
    },
    {
      "cell_type": "code",
      "source": [
        "#Create a 5D Tensor\n",
        "tensor5D = tf.constant([[\n",
        "                       [[[1],[1]],\n",
        "                        [[1],[1]],\n",
        "                        [[1],[1]]],\n",
        "                       [[[1],[1]],\n",
        "                        [[1],[1]],\n",
        "                        [[1],[1]]],\n",
        "                       [[[1],[1]],\n",
        "                        [[1],[1]],\n",
        "                        [[1],[1]]],\n",
        "                       [[[1],[1]],\n",
        "                        [[1],[1]],\n",
        "                        [[1],[1]]]]\n",
        "                        ,[\n",
        "                       [[[1],[1]],\n",
        "                        [[1],[1]],\n",
        "                        [[1],[1]]],\n",
        "                       [[[1],[1]],\n",
        "                        [[1],[1]],\n",
        "                        [[1],[1]]],\n",
        "                       [[[1],[1]],\n",
        "                        [[1],[1]],\n",
        "                        [[1],[1]]],\n",
        "                       [[[1],[1]],\n",
        "                        [[1],[1]],\n",
        "                        [[1],[1]]]]\n",
        "                        ,[\n",
        "                       [[[1],[1]],\n",
        "                        [[1],[1]],\n",
        "                        [[1],[1]]],\n",
        "                       [[[1],[1]],\n",
        "                        [[1],[1]],\n",
        "                        [[1],[1]]],\n",
        "                       [[[1],[1]],\n",
        "                        [[1],[1]],\n",
        "                        [[1],[1]]],\n",
        "                       [[[1],[1]],\n",
        "                        [[1],[1]],\n",
        "                        [[1],[1]]]]\n",
        "                        ,[\n",
        "                       [[[1],[1]],\n",
        "                        [[1],[1]],\n",
        "                        [[1],[1]]],\n",
        "                       [[[1],[1]],\n",
        "                        [[1],[1]],\n",
        "                        [[1],[1]]],\n",
        "                       [[[1],[1]],\n",
        "                        [[1],[1]],\n",
        "                        [[1],[1]]],\n",
        "                       [[[1],[1]],\n",
        "                        [[1],[1]],\n",
        "                        [[1],[1]]]]\n",
        "                        ,[\n",
        "                       [[[1],[1]],\n",
        "                        [[1],[1]],\n",
        "                        [[1],[1]]],\n",
        "                       [[[1],[1]],\n",
        "                        [[1],[1]],\n",
        "                        [[1],[1]]],\n",
        "                       [[[1],[1]],\n",
        "                        [[1],[1]],\n",
        "                        [[1],[1]]],\n",
        "                       [[[1],[1]],\n",
        "                        [[1],[1]],\n",
        "                        [[1],[1]]]]\n",
        "                        ])\n",
        "tensor5D"
      ],
      "metadata": {
        "colab": {
          "base_uri": "https://localhost:8080/"
        },
        "id": "aZoLgF4IjpsD",
        "outputId": "43fc7e40-c750-4831-ec4c-90502cb14cb2"
      },
      "execution_count": 43,
      "outputs": [
        {
          "output_type": "execute_result",
          "data": {
            "text/plain": [
              "<tf.Tensor: shape=(5, 4, 3, 2, 1), dtype=int32, numpy=\n",
              "array([[[[[1],\n",
              "          [1]],\n",
              "\n",
              "         [[1],\n",
              "          [1]],\n",
              "\n",
              "         [[1],\n",
              "          [1]]],\n",
              "\n",
              "\n",
              "        [[[1],\n",
              "          [1]],\n",
              "\n",
              "         [[1],\n",
              "          [1]],\n",
              "\n",
              "         [[1],\n",
              "          [1]]],\n",
              "\n",
              "\n",
              "        [[[1],\n",
              "          [1]],\n",
              "\n",
              "         [[1],\n",
              "          [1]],\n",
              "\n",
              "         [[1],\n",
              "          [1]]],\n",
              "\n",
              "\n",
              "        [[[1],\n",
              "          [1]],\n",
              "\n",
              "         [[1],\n",
              "          [1]],\n",
              "\n",
              "         [[1],\n",
              "          [1]]]],\n",
              "\n",
              "\n",
              "\n",
              "       [[[[1],\n",
              "          [1]],\n",
              "\n",
              "         [[1],\n",
              "          [1]],\n",
              "\n",
              "         [[1],\n",
              "          [1]]],\n",
              "\n",
              "\n",
              "        [[[1],\n",
              "          [1]],\n",
              "\n",
              "         [[1],\n",
              "          [1]],\n",
              "\n",
              "         [[1],\n",
              "          [1]]],\n",
              "\n",
              "\n",
              "        [[[1],\n",
              "          [1]],\n",
              "\n",
              "         [[1],\n",
              "          [1]],\n",
              "\n",
              "         [[1],\n",
              "          [1]]],\n",
              "\n",
              "\n",
              "        [[[1],\n",
              "          [1]],\n",
              "\n",
              "         [[1],\n",
              "          [1]],\n",
              "\n",
              "         [[1],\n",
              "          [1]]]],\n",
              "\n",
              "\n",
              "\n",
              "       [[[[1],\n",
              "          [1]],\n",
              "\n",
              "         [[1],\n",
              "          [1]],\n",
              "\n",
              "         [[1],\n",
              "          [1]]],\n",
              "\n",
              "\n",
              "        [[[1],\n",
              "          [1]],\n",
              "\n",
              "         [[1],\n",
              "          [1]],\n",
              "\n",
              "         [[1],\n",
              "          [1]]],\n",
              "\n",
              "\n",
              "        [[[1],\n",
              "          [1]],\n",
              "\n",
              "         [[1],\n",
              "          [1]],\n",
              "\n",
              "         [[1],\n",
              "          [1]]],\n",
              "\n",
              "\n",
              "        [[[1],\n",
              "          [1]],\n",
              "\n",
              "         [[1],\n",
              "          [1]],\n",
              "\n",
              "         [[1],\n",
              "          [1]]]],\n",
              "\n",
              "\n",
              "\n",
              "       [[[[1],\n",
              "          [1]],\n",
              "\n",
              "         [[1],\n",
              "          [1]],\n",
              "\n",
              "         [[1],\n",
              "          [1]]],\n",
              "\n",
              "\n",
              "        [[[1],\n",
              "          [1]],\n",
              "\n",
              "         [[1],\n",
              "          [1]],\n",
              "\n",
              "         [[1],\n",
              "          [1]]],\n",
              "\n",
              "\n",
              "        [[[1],\n",
              "          [1]],\n",
              "\n",
              "         [[1],\n",
              "          [1]],\n",
              "\n",
              "         [[1],\n",
              "          [1]]],\n",
              "\n",
              "\n",
              "        [[[1],\n",
              "          [1]],\n",
              "\n",
              "         [[1],\n",
              "          [1]],\n",
              "\n",
              "         [[1],\n",
              "          [1]]]],\n",
              "\n",
              "\n",
              "\n",
              "       [[[[1],\n",
              "          [1]],\n",
              "\n",
              "         [[1],\n",
              "          [1]],\n",
              "\n",
              "         [[1],\n",
              "          [1]]],\n",
              "\n",
              "\n",
              "        [[[1],\n",
              "          [1]],\n",
              "\n",
              "         [[1],\n",
              "          [1]],\n",
              "\n",
              "         [[1],\n",
              "          [1]]],\n",
              "\n",
              "\n",
              "        [[[1],\n",
              "          [1]],\n",
              "\n",
              "         [[1],\n",
              "          [1]],\n",
              "\n",
              "         [[1],\n",
              "          [1]]],\n",
              "\n",
              "\n",
              "        [[[1],\n",
              "          [1]],\n",
              "\n",
              "         [[1],\n",
              "          [1]],\n",
              "\n",
              "         [[1],\n",
              "          [1]]]]], dtype=int32)>"
            ]
          },
          "metadata": {},
          "execution_count": 43
        }
      ]
    },
    {
      "cell_type": "code",
      "source": [
        "tensor5D.ndim"
      ],
      "metadata": {
        "colab": {
          "base_uri": "https://localhost:8080/"
        },
        "id": "LuJDzGXAj_E1",
        "outputId": "3f4f9466-1a85-456a-f755-b65b972bb4ad"
      },
      "execution_count": 41,
      "outputs": [
        {
          "output_type": "execute_result",
          "data": {
            "text/plain": [
              "5"
            ]
          },
          "metadata": {},
          "execution_count": 41
        }
      ]
    },
    {
      "cell_type": "markdown",
      "source": [
        "What we've created so far:\n",
        "\n",
        "* Scalar: a single number\n",
        "* Vecotr: an array of numbers\n",
        "* Matrix: a 2-dimensional array\n",
        "* Tensor: a n-dimensional array"
      ],
      "metadata": {
        "id": "daZF12SYjHhO"
      }
    }
  ]
}