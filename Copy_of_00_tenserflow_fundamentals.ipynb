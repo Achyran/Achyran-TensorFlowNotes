{
  "nbformat": 4,
  "nbformat_minor": 0,
  "metadata": {
    "colab": {
      "provenance": [],
      "authorship_tag": "ABX9TyNohyhQQkWABU8isNuW9jlp",
      "include_colab_link": true
    },
    "kernelspec": {
      "name": "python3",
      "display_name": "Python 3"
    },
    "language_info": {
      "name": "python"
    }
  },
  "cells": [
    {
      "cell_type": "markdown",
      "metadata": {
        "id": "view-in-github",
        "colab_type": "text"
      },
      "source": [
        "<a href=\"https://colab.research.google.com/github/Achyran/Achyran-TensorFlowNotes/blob/master/Copy_of_00_tenserflow_fundamentals.ipynb\" target=\"_parent\"><img src=\"https://colab.research.google.com/assets/colab-badge.svg\" alt=\"Open In Colab\"/></a>"
      ]
    },
    {
      "cell_type": "markdown",
      "source": [
        "#In this nootbook, we're going to cover the most fundamentals concepts of tensors using Tensorflow.\n",
        "\n",
        "More specifically, we're going to cover:\n",
        "* Introduction to tensors\n",
        "* Getting Information from Tensors\n",
        "* Manipulating Tensors\n",
        "* tensors & NumPy\n",
        "* using @tf.function\n",
        "* using GPUs with TensorFlow\n",
        "* Exerises"
      ],
      "metadata": {
        "id": "yDpi1gN_brV_"
      }
    },
    {
      "cell_type": "markdown",
      "source": [
        "#Introduction to Tensors\n"
      ],
      "metadata": {
        "id": "qDnDpvhqcZxk"
      }
    },
    {
      "cell_type": "code",
      "execution_count": null,
      "metadata": {
        "colab": {
          "base_uri": "https://localhost:8080/"
        },
        "id": "tGlypVHdbI6A",
        "outputId": "4ccb72ca-3d61-46d3-df61-525a2c01ae71"
      },
      "outputs": [
        {
          "output_type": "stream",
          "name": "stdout",
          "text": [
            "2.15.0\n"
          ]
        }
      ],
      "source": [
        "#Import TensorFlow\n",
        "import tensorflow as tf\n",
        "print(tf.__version__)"
      ]
    },
    {
      "cell_type": "code",
      "source": [
        "# Create Tensors with tf.constant()\n",
        "scalar = tf.constant(2)\n",
        "scalar"
      ],
      "metadata": {
        "colab": {
          "base_uri": "https://localhost:8080/"
        },
        "id": "AV-8T07Gcyz0",
        "outputId": "cd96c4b6-3847-4af0-e6df-81ca31be7e9d"
      },
      "execution_count": null,
      "outputs": [
        {
          "output_type": "execute_result",
          "data": {
            "text/plain": [
              "<tf.Tensor: shape=(), dtype=int32, numpy=2>"
            ]
          },
          "metadata": {},
          "execution_count": 37
        }
      ]
    },
    {
      "cell_type": "code",
      "source": [
        "# Check of numer of dimensions of a tensor (ndim)\n",
        "scalar.ndim"
      ],
      "metadata": {
        "colab": {
          "base_uri": "https://localhost:8080/"
        },
        "id": "1E4b5-vvdKYD",
        "outputId": "98c683fd-33f0-4182-a30d-3f215d742518"
      },
      "execution_count": null,
      "outputs": [
        {
          "output_type": "execute_result",
          "data": {
            "text/plain": [
              "0"
            ]
          },
          "metadata": {},
          "execution_count": 38
        }
      ]
    },
    {
      "cell_type": "code",
      "source": [
        "#Create a vector\n",
        "vector = tf.constant([1,2])\n",
        "vector"
      ],
      "metadata": {
        "colab": {
          "base_uri": "https://localhost:8080/"
        },
        "id": "N76C7Cd3dhNh",
        "outputId": "158a9d09-2aac-4e13-c6b8-f217fbb65d20"
      },
      "execution_count": null,
      "outputs": [
        {
          "output_type": "execute_result",
          "data": {
            "text/plain": [
              "<tf.Tensor: shape=(2,), dtype=int32, numpy=array([1, 2], dtype=int32)>"
            ]
          },
          "metadata": {},
          "execution_count": 6
        }
      ]
    },
    {
      "cell_type": "code",
      "source": [
        "# Ceck dimension of a Vector:\n",
        "vector.ndim"
      ],
      "metadata": {
        "colab": {
          "base_uri": "https://localhost:8080/"
        },
        "id": "w0AD7S0Wdw0-",
        "outputId": "debd2c66-fdd7-4380-9979-d75c3d58d6e3"
      },
      "execution_count": null,
      "outputs": [
        {
          "output_type": "execute_result",
          "data": {
            "text/plain": [
              "1"
            ]
          },
          "metadata": {},
          "execution_count": 7
        }
      ]
    },
    {
      "cell_type": "code",
      "source": [
        "# Create a Matrix\n",
        "matrix = tf.constant([[3,7],\n",
        "                      [4,5]])\n",
        "matrix"
      ],
      "metadata": {
        "colab": {
          "base_uri": "https://localhost:8080/"
        },
        "id": "kMNI9WjYd3Jg",
        "outputId": "7850e1be-2f8b-4a85-ac74-0727acb43929"
      },
      "execution_count": null,
      "outputs": [
        {
          "output_type": "execute_result",
          "data": {
            "text/plain": [
              "<tf.Tensor: shape=(2, 2), dtype=int32, numpy=\n",
              "array([[3, 7],\n",
              "       [4, 5]], dtype=int32)>"
            ]
          },
          "metadata": {},
          "execution_count": 8
        }
      ]
    },
    {
      "cell_type": "code",
      "source": [
        "# Check dimension of a Matrix\n",
        "matrix.ndim"
      ],
      "metadata": {
        "colab": {
          "base_uri": "https://localhost:8080/"
        },
        "id": "zMcZgOEheNUS",
        "outputId": "0b48babd-bdca-4c83-bbbc-da7b1b1a6882"
      },
      "execution_count": null,
      "outputs": [
        {
          "output_type": "execute_result",
          "data": {
            "text/plain": [
              "2"
            ]
          },
          "metadata": {},
          "execution_count": 9
        }
      ]
    },
    {
      "cell_type": "code",
      "source": [
        "# Create another Matrix with type\n",
        "matrixf = tf.constant([[3.,7.],\n",
        "                      [4.,5.]], dtype=tf.float16) #Specify datetype\n",
        "matrixf"
      ],
      "metadata": {
        "colab": {
          "base_uri": "https://localhost:8080/"
        },
        "id": "dm7DgyV1fZJs",
        "outputId": "0aae4225-402a-4949-8442-a246e70eb305"
      },
      "execution_count": null,
      "outputs": [
        {
          "output_type": "execute_result",
          "data": {
            "text/plain": [
              "<tf.Tensor: shape=(2, 2), dtype=float16, numpy=\n",
              "array([[3., 7.],\n",
              "       [4., 5.]], dtype=float16)>"
            ]
          },
          "metadata": {},
          "execution_count": 15
        }
      ]
    },
    {
      "cell_type": "code",
      "source": [
        "#Creating a Tensor\n",
        "tensor = tf.constant([[[1,2],[1,2],[1,2]]\n",
        "                      ,[[1,2],[1,2],[1,2]],\n",
        "                      [[1,2],[1,2],[1,2]],\n",
        "                       [[1,2],[1,2],[1,2]]])\n",
        "tensor\n"
      ],
      "metadata": {
        "colab": {
          "base_uri": "https://localhost:8080/"
        },
        "id": "jnkNOX8EeUZF",
        "outputId": "7ae8191f-ba8a-4c8d-912f-d3e99b8ee2bd"
      },
      "execution_count": null,
      "outputs": [
        {
          "output_type": "execute_result",
          "data": {
            "text/plain": [
              "<tf.Tensor: shape=(4, 3, 2), dtype=int32, numpy=\n",
              "array([[[1, 2],\n",
              "        [1, 2],\n",
              "        [1, 2]],\n",
              "\n",
              "       [[1, 2],\n",
              "        [1, 2],\n",
              "        [1, 2]],\n",
              "\n",
              "       [[1, 2],\n",
              "        [1, 2],\n",
              "        [1, 2]],\n",
              "\n",
              "       [[1, 2],\n",
              "        [1, 2],\n",
              "        [1, 2]]], dtype=int32)>"
            ]
          },
          "metadata": {},
          "execution_count": 25
        }
      ]
    },
    {
      "cell_type": "code",
      "source": [
        "#tensor ndim\n",
        "tensor.ndim"
      ],
      "metadata": {
        "colab": {
          "base_uri": "https://localhost:8080/"
        },
        "id": "2fH_2DfKhFzu",
        "outputId": "4da20bb0-6f54-45fd-a406-e1d6a5642aed"
      },
      "execution_count": null,
      "outputs": [
        {
          "output_type": "execute_result",
          "data": {
            "text/plain": [
              "3"
            ]
          },
          "metadata": {},
          "execution_count": 26
        }
      ]
    },
    {
      "cell_type": "code",
      "source": [
        "#Create a 4D Tensor\n",
        "tensor4D = tf.constant([\n",
        "                       [[[1],[1]],\n",
        "                        [[1],[1]],\n",
        "                        [[1],[1]]],\n",
        "                       [[[1],[1]],\n",
        "                        [[1],[1]],\n",
        "                        [[1],[1]]],\n",
        "                       [[[1],[1]],\n",
        "                        [[1],[1]],\n",
        "                        [[1],[1]]],\n",
        "                       [[[1],[1]],\n",
        "                        [[1],[1]],\n",
        "                        [[1],[1]]]])\n",
        "tensor4D\n",
        "\n",
        "#The number of shape is the amount of items in the array of the coresponding dimension"
      ],
      "metadata": {
        "colab": {
          "base_uri": "https://localhost:8080/"
        },
        "id": "iWXGJ4sQhR8b",
        "outputId": "e01f966a-cc06-46c3-c568-e373bad6a3d8"
      },
      "execution_count": null,
      "outputs": [
        {
          "output_type": "execute_result",
          "data": {
            "text/plain": [
              "<tf.Tensor: shape=(4, 3, 2, 1), dtype=int32, numpy=\n",
              "array([[[[1],\n",
              "         [1]],\n",
              "\n",
              "        [[1],\n",
              "         [1]],\n",
              "\n",
              "        [[1],\n",
              "         [1]]],\n",
              "\n",
              "\n",
              "       [[[1],\n",
              "         [1]],\n",
              "\n",
              "        [[1],\n",
              "         [1]],\n",
              "\n",
              "        [[1],\n",
              "         [1]]],\n",
              "\n",
              "\n",
              "       [[[1],\n",
              "         [1]],\n",
              "\n",
              "        [[1],\n",
              "         [1]],\n",
              "\n",
              "        [[1],\n",
              "         [1]]],\n",
              "\n",
              "\n",
              "       [[[1],\n",
              "         [1]],\n",
              "\n",
              "        [[1],\n",
              "         [1]],\n",
              "\n",
              "        [[1],\n",
              "         [1]]]], dtype=int32)>"
            ]
          },
          "metadata": {},
          "execution_count": 34
        }
      ]
    },
    {
      "cell_type": "code",
      "source": [
        "tensor4D.ndim"
      ],
      "metadata": {
        "colab": {
          "base_uri": "https://localhost:8080/"
        },
        "id": "VhXo2H04j3S7",
        "outputId": "c6534517-ce19-4f79-c967-cb533d97a328"
      },
      "execution_count": null,
      "outputs": [
        {
          "output_type": "execute_result",
          "data": {
            "text/plain": [
              "4"
            ]
          },
          "metadata": {},
          "execution_count": 40
        }
      ]
    },
    {
      "cell_type": "code",
      "source": [
        "#Create a 5D Tensor\n",
        "tensor5D = tf.constant([[\n",
        "                       [[[1],[1]],\n",
        "                        [[1],[1]],\n",
        "                        [[1],[1]]],\n",
        "                       [[[1],[1]],\n",
        "                        [[1],[1]],\n",
        "                        [[1],[1]]],\n",
        "                       [[[1],[1]],\n",
        "                        [[1],[1]],\n",
        "                        [[1],[1]]],\n",
        "                       [[[1],[1]],\n",
        "                        [[1],[1]],\n",
        "                        [[1],[1]]]]\n",
        "                        ,[\n",
        "                       [[[1],[1]],\n",
        "                        [[1],[1]],\n",
        "                        [[1],[1]]],\n",
        "                       [[[1],[1]],\n",
        "                        [[1],[1]],\n",
        "                        [[1],[1]]],\n",
        "                       [[[1],[1]],\n",
        "                        [[1],[1]],\n",
        "                        [[1],[1]]],\n",
        "                       [[[1],[1]],\n",
        "                        [[1],[1]],\n",
        "                        [[1],[1]]]]\n",
        "                        ,[\n",
        "                       [[[1],[1]],\n",
        "                        [[1],[1]],\n",
        "                        [[1],[1]]],\n",
        "                       [[[1],[1]],\n",
        "                        [[1],[1]],\n",
        "                        [[1],[1]]],\n",
        "                       [[[1],[1]],\n",
        "                        [[1],[1]],\n",
        "                        [[1],[1]]],\n",
        "                       [[[1],[1]],\n",
        "                        [[1],[1]],\n",
        "                        [[1],[1]]]]\n",
        "                        ,[\n",
        "                       [[[1],[1]],\n",
        "                        [[1],[1]],\n",
        "                        [[1],[1]]],\n",
        "                       [[[1],[1]],\n",
        "                        [[1],[1]],\n",
        "                        [[1],[1]]],\n",
        "                       [[[1],[1]],\n",
        "                        [[1],[1]],\n",
        "                        [[1],[1]]],\n",
        "                       [[[1],[1]],\n",
        "                        [[1],[1]],\n",
        "                        [[1],[1]]]]\n",
        "                        ,[\n",
        "                       [[[1],[1]],\n",
        "                        [[1],[1]],\n",
        "                        [[1],[1]]],\n",
        "                       [[[1],[1]],\n",
        "                        [[1],[1]],\n",
        "                        [[1],[1]]],\n",
        "                       [[[1],[1]],\n",
        "                        [[1],[1]],\n",
        "                        [[1],[1]]],\n",
        "                       [[[1],[1]],\n",
        "                        [[1],[1]],\n",
        "                        [[1],[1]]]]\n",
        "                        ])\n",
        "tensor5D"
      ],
      "metadata": {
        "colab": {
          "base_uri": "https://localhost:8080/"
        },
        "id": "aZoLgF4IjpsD",
        "outputId": "43fc7e40-c750-4831-ec4c-90502cb14cb2"
      },
      "execution_count": null,
      "outputs": [
        {
          "output_type": "execute_result",
          "data": {
            "text/plain": [
              "<tf.Tensor: shape=(5, 4, 3, 2, 1), dtype=int32, numpy=\n",
              "array([[[[[1],\n",
              "          [1]],\n",
              "\n",
              "         [[1],\n",
              "          [1]],\n",
              "\n",
              "         [[1],\n",
              "          [1]]],\n",
              "\n",
              "\n",
              "        [[[1],\n",
              "          [1]],\n",
              "\n",
              "         [[1],\n",
              "          [1]],\n",
              "\n",
              "         [[1],\n",
              "          [1]]],\n",
              "\n",
              "\n",
              "        [[[1],\n",
              "          [1]],\n",
              "\n",
              "         [[1],\n",
              "          [1]],\n",
              "\n",
              "         [[1],\n",
              "          [1]]],\n",
              "\n",
              "\n",
              "        [[[1],\n",
              "          [1]],\n",
              "\n",
              "         [[1],\n",
              "          [1]],\n",
              "\n",
              "         [[1],\n",
              "          [1]]]],\n",
              "\n",
              "\n",
              "\n",
              "       [[[[1],\n",
              "          [1]],\n",
              "\n",
              "         [[1],\n",
              "          [1]],\n",
              "\n",
              "         [[1],\n",
              "          [1]]],\n",
              "\n",
              "\n",
              "        [[[1],\n",
              "          [1]],\n",
              "\n",
              "         [[1],\n",
              "          [1]],\n",
              "\n",
              "         [[1],\n",
              "          [1]]],\n",
              "\n",
              "\n",
              "        [[[1],\n",
              "          [1]],\n",
              "\n",
              "         [[1],\n",
              "          [1]],\n",
              "\n",
              "         [[1],\n",
              "          [1]]],\n",
              "\n",
              "\n",
              "        [[[1],\n",
              "          [1]],\n",
              "\n",
              "         [[1],\n",
              "          [1]],\n",
              "\n",
              "         [[1],\n",
              "          [1]]]],\n",
              "\n",
              "\n",
              "\n",
              "       [[[[1],\n",
              "          [1]],\n",
              "\n",
              "         [[1],\n",
              "          [1]],\n",
              "\n",
              "         [[1],\n",
              "          [1]]],\n",
              "\n",
              "\n",
              "        [[[1],\n",
              "          [1]],\n",
              "\n",
              "         [[1],\n",
              "          [1]],\n",
              "\n",
              "         [[1],\n",
              "          [1]]],\n",
              "\n",
              "\n",
              "        [[[1],\n",
              "          [1]],\n",
              "\n",
              "         [[1],\n",
              "          [1]],\n",
              "\n",
              "         [[1],\n",
              "          [1]]],\n",
              "\n",
              "\n",
              "        [[[1],\n",
              "          [1]],\n",
              "\n",
              "         [[1],\n",
              "          [1]],\n",
              "\n",
              "         [[1],\n",
              "          [1]]]],\n",
              "\n",
              "\n",
              "\n",
              "       [[[[1],\n",
              "          [1]],\n",
              "\n",
              "         [[1],\n",
              "          [1]],\n",
              "\n",
              "         [[1],\n",
              "          [1]]],\n",
              "\n",
              "\n",
              "        [[[1],\n",
              "          [1]],\n",
              "\n",
              "         [[1],\n",
              "          [1]],\n",
              "\n",
              "         [[1],\n",
              "          [1]]],\n",
              "\n",
              "\n",
              "        [[[1],\n",
              "          [1]],\n",
              "\n",
              "         [[1],\n",
              "          [1]],\n",
              "\n",
              "         [[1],\n",
              "          [1]]],\n",
              "\n",
              "\n",
              "        [[[1],\n",
              "          [1]],\n",
              "\n",
              "         [[1],\n",
              "          [1]],\n",
              "\n",
              "         [[1],\n",
              "          [1]]]],\n",
              "\n",
              "\n",
              "\n",
              "       [[[[1],\n",
              "          [1]],\n",
              "\n",
              "         [[1],\n",
              "          [1]],\n",
              "\n",
              "         [[1],\n",
              "          [1]]],\n",
              "\n",
              "\n",
              "        [[[1],\n",
              "          [1]],\n",
              "\n",
              "         [[1],\n",
              "          [1]],\n",
              "\n",
              "         [[1],\n",
              "          [1]]],\n",
              "\n",
              "\n",
              "        [[[1],\n",
              "          [1]],\n",
              "\n",
              "         [[1],\n",
              "          [1]],\n",
              "\n",
              "         [[1],\n",
              "          [1]]],\n",
              "\n",
              "\n",
              "        [[[1],\n",
              "          [1]],\n",
              "\n",
              "         [[1],\n",
              "          [1]],\n",
              "\n",
              "         [[1],\n",
              "          [1]]]]], dtype=int32)>"
            ]
          },
          "metadata": {},
          "execution_count": 43
        }
      ]
    },
    {
      "cell_type": "code",
      "source": [
        "tensor5D.ndim"
      ],
      "metadata": {
        "colab": {
          "base_uri": "https://localhost:8080/"
        },
        "id": "LuJDzGXAj_E1",
        "outputId": "3f4f9466-1a85-456a-f755-b65b972bb4ad"
      },
      "execution_count": null,
      "outputs": [
        {
          "output_type": "execute_result",
          "data": {
            "text/plain": [
              "5"
            ]
          },
          "metadata": {},
          "execution_count": 41
        }
      ]
    },
    {
      "cell_type": "markdown",
      "source": [
        "What we've created so far:\n",
        "\n",
        "* Scalar: a single number\n",
        "* Vecotr: an array of numbers\n",
        "* Matrix: a 2-dimensional array\n",
        "* Tensor: a n-dimensional array"
      ],
      "metadata": {
        "id": "daZF12SYjHhO"
      }
    },
    {
      "cell_type": "markdown",
      "source": [
        "### Creating Veriable Tensors\n"
      ],
      "metadata": {
        "id": "vAaVTc-fRrfr"
      }
    },
    {
      "cell_type": "code",
      "source": [
        "variable_tensor = tf.Variable([1,2])\n",
        "variable_tensor"
      ],
      "metadata": {
        "id": "aUVFODXmRwVK",
        "outputId": "56b0b74a-30b4-4219-b1bb-9cae9d19bbd7",
        "colab": {
          "base_uri": "https://localhost:8080/"
        }
      },
      "execution_count": null,
      "outputs": [
        {
          "output_type": "execute_result",
          "data": {
            "text/plain": [
              "<tf.Variable 'Variable:0' shape=(2,) dtype=int32, numpy=array([1, 2], dtype=int32)>"
            ]
          },
          "metadata": {},
          "execution_count": 48
        }
      ]
    },
    {
      "cell_type": "code",
      "source": [
        "#Assing\n",
        "variable_tensor.assign([2,3])\n",
        "variable_tensor"
      ],
      "metadata": {
        "id": "X4Ry-NoYSESc",
        "outputId": "995d97d6-7f20-4163-900a-c19f8d0a98b7",
        "colab": {
          "base_uri": "https://localhost:8080/"
        }
      },
      "execution_count": null,
      "outputs": [
        {
          "output_type": "execute_result",
          "data": {
            "text/plain": [
              "<tf.Variable 'Variable:0' shape=(2,) dtype=int32, numpy=array([2, 3], dtype=int32)>"
            ]
          },
          "metadata": {},
          "execution_count": 49
        }
      ]
    },
    {
      "cell_type": "code",
      "source": [
        "#Assing on a deeper dimmension\n",
        "variable_tensor[0].assign([6])\n",
        "variable_tensor"
      ],
      "metadata": {
        "id": "G3A8dy-TSV2k",
        "outputId": "e3b2ef82-e12f-48fb-9bd6-26db99812d57",
        "colab": {
          "base_uri": "https://localhost:8080/"
        }
      },
      "execution_count": null,
      "outputs": [
        {
          "output_type": "execute_result",
          "data": {
            "text/plain": [
              "<tf.Variable 'Variable:0' shape=(2,) dtype=int32, numpy=array([6, 3], dtype=int32)>"
            ]
          },
          "metadata": {},
          "execution_count": 50
        }
      ]
    },
    {
      "cell_type": "code",
      "source": [
        "#Playing variable Matrix\n",
        "variable_Matrix = tf.Variable([[[1,2],[3,4]],[[5,6],[7,8]]])\n",
        "variable_Matrix"
      ],
      "metadata": {
        "id": "t3DUUO87Sh8k",
        "outputId": "412923fd-0571-4dd9-97e6-e22b24b4a619",
        "colab": {
          "base_uri": "https://localhost:8080/"
        }
      },
      "execution_count": null,
      "outputs": [
        {
          "output_type": "execute_result",
          "data": {
            "text/plain": [
              "<tf.Variable 'Variable:0' shape=(2, 2, 2) dtype=int32, numpy=\n",
              "array([[[1, 2],\n",
              "        [3, 4]],\n",
              "\n",
              "       [[5, 6],\n",
              "        [7, 8]]], dtype=int32)>"
            ]
          },
          "metadata": {},
          "execution_count": 51
        }
      ]
    },
    {
      "cell_type": "code",
      "source": [
        "#Assingin in the first dimension\n",
        "variable_Matrix.assign([[[1,2],[3,4]],[[5,6],[7,8]]])  #Assingin on the first dimension takes a tensor with the same Shape\n",
        "variable_Matrix"
      ],
      "metadata": {
        "id": "tC5x6jYJTARx",
        "outputId": "ff9d8b0f-677d-4259-e98a-ec5ab5dbc3d4",
        "colab": {
          "base_uri": "https://localhost:8080/"
        }
      },
      "execution_count": null,
      "outputs": [
        {
          "output_type": "execute_result",
          "data": {
            "text/plain": [
              "<tf.Variable 'Variable:0' shape=(2, 2, 2) dtype=int32, numpy=\n",
              "array([[[1, 2],\n",
              "        [3, 4]],\n",
              "\n",
              "       [[5, 6],\n",
              "        [7, 8]]], dtype=int32)>"
            ]
          },
          "metadata": {},
          "execution_count": 57
        }
      ]
    },
    {
      "cell_type": "code",
      "source": [
        "#Assingin in the second dimension\n",
        "variable_Matrix[1].assign([[5,6],[7,8]])  #Assingin on the lower dimension takes a shape wit the shape of the lower dimenions (in this case (2,2))\n",
        "variable_Matrix                           #at the specified index (in this case in the las row of the matrix)"
      ],
      "metadata": {
        "id": "Qiq4bVg4T-7x",
        "outputId": "30c1097c-8370-4767-9a63-6035a334c465",
        "colab": {
          "base_uri": "https://localhost:8080/"
        }
      },
      "execution_count": null,
      "outputs": [
        {
          "output_type": "execute_result",
          "data": {
            "text/plain": [
              "<tf.Variable 'Variable:0' shape=(2, 2, 2) dtype=int32, numpy=\n",
              "array([[[1, 2],\n",
              "        [3, 4]],\n",
              "\n",
              "       [[5, 6],\n",
              "        [7, 8]]], dtype=int32)>"
            ]
          },
          "metadata": {},
          "execution_count": 58
        }
      ]
    },
    {
      "cell_type": "code",
      "source": [
        "#To be Fixed\n",
        "\n",
        "#Assingin in the third  dimension\n",
        "#variable_Matrix[1][0].assign([7,8])  #Assingin on the lower dimension takes a shape wit the shape of the lower dimenions (in this case (2,2))\n",
        "variable_Matrix[1][0]                   #at the specified index (in this case in the las row of the matrix)"
      ],
      "metadata": {
        "id": "IhXGpl4mUwhr",
        "outputId": "ec66aac8-86d0-4e2b-e4f3-3db8f553dcaa",
        "colab": {
          "base_uri": "https://localhost:8080/"
        }
      },
      "execution_count": null,
      "outputs": [
        {
          "output_type": "execute_result",
          "data": {
            "text/plain": [
              "<tf.Tensor: shape=(2,), dtype=int32, numpy=array([5, 6], dtype=int32)>"
            ]
          },
          "metadata": {},
          "execution_count": 74
        }
      ]
    },
    {
      "cell_type": "markdown",
      "source": [
        "### Creating Random Tensors"
      ],
      "metadata": {
        "id": "3DYtdbIuXJBI"
      }
    },
    {
      "cell_type": "markdown",
      "source": [
        "Random transors are thensors of abitrary size whitch contain random Numbers"
      ],
      "metadata": {
        "id": "AsZmv5TlXikx"
      }
    },
    {
      "cell_type": "code",
      "source": [
        "tensor_factory = tf.random.Generator.from_seed(42) #Generates a Tensor facotry Comparable the the Random rand = new Random(42) in C#\n",
        "random_1 = tensor_factory.normal(shape= (3,2))\n",
        "random_1"
      ],
      "metadata": {
        "id": "PHR5bNf-XG5-",
        "outputId": "8a8f2bfc-ae16-4163-c84b-c217b402e2ea",
        "colab": {
          "base_uri": "https://localhost:8080/"
        }
      },
      "execution_count": null,
      "outputs": [
        {
          "output_type": "execute_result",
          "data": {
            "text/plain": [
              "<tf.Tensor: shape=(3, 2), dtype=float32, numpy=\n",
              "array([[-0.7565803 , -0.06854702],\n",
              "       [ 0.07595026, -1.2573844 ],\n",
              "       [-0.23193763, -1.8107855 ]], dtype=float32)>"
            ]
          },
          "metadata": {},
          "execution_count": 107
        }
      ]
    },
    {
      "cell_type": "code",
      "source": [
        "random_2 = tf.random.Generator.from_seed(42).normal(shape=(3,2)) #Create the same tensor again\n",
        "random_2"
      ],
      "metadata": {
        "id": "xqKW0ts-Yb6Y",
        "outputId": "0b8a22d5-2441-4b17-ab5c-3864b937efe8",
        "colab": {
          "base_uri": "https://localhost:8080/"
        }
      },
      "execution_count": null,
      "outputs": [
        {
          "output_type": "execute_result",
          "data": {
            "text/plain": [
              "<tf.Tensor: shape=(3, 2), dtype=float32, numpy=\n",
              "array([[-0.7565803 , -0.06854702],\n",
              "       [ 0.07595026, -1.2573844 ],\n",
              "       [-0.23193763, -1.8107855 ]], dtype=float32)>"
            ]
          },
          "metadata": {},
          "execution_count": 109
        }
      ]
    },
    {
      "cell_type": "markdown",
      "source": [
        "###Shuffle Tensors\n"
      ],
      "metadata": {
        "id": "Hl66s1KKaopi"
      }
    },
    {
      "cell_type": "code",
      "source": [
        "#Shuffle a Tensor (valuable when you shuffle yout data so the inherret order does not interfere with learning)\n",
        "\n",
        "not_shuffled = tf.constant([[2,3],[3,4],[4,5]])\n",
        "\n",
        "#Shuffle our tensor\n",
        "tf.random.shuffle(not_shuffled)"
      ],
      "metadata": {
        "id": "JpzJippEar34",
        "outputId": "792c2d32-8670-464f-c6da-640262ec3225",
        "colab": {
          "base_uri": "https://localhost:8080/"
        }
      },
      "execution_count": null,
      "outputs": [
        {
          "output_type": "execute_result",
          "data": {
            "text/plain": [
              "<tf.Tensor: shape=(3, 2), dtype=int32, numpy=\n",
              "array([[3, 4],\n",
              "       [2, 3],\n",
              "       [4, 5]], dtype=int32)>"
            ]
          },
          "metadata": {},
          "execution_count": 92
        }
      ]
    },
    {
      "cell_type": "code",
      "source": [
        "#Shuffle the same every time\n",
        "tf.random.set_seed(42)                           #sets the the global seed\n",
        "tf.random.shuffle(not_shuffled, seed = 5)        #uses the global seed in combination with the operational seed"
      ],
      "metadata": {
        "id": "4w_RVaNdbaVO",
        "outputId": "17dcf63b-3557-498e-e7b1-8481b5a07ec3",
        "colab": {
          "base_uri": "https://localhost:8080/"
        }
      },
      "execution_count": null,
      "outputs": [
        {
          "output_type": "execute_result",
          "data": {
            "text/plain": [
              "<tf.Tensor: shape=(3, 2), dtype=int32, numpy=\n",
              "array([[2, 3],\n",
              "       [3, 4],\n",
              "       [4, 5]], dtype=int32)>"
            ]
          },
          "metadata": {},
          "execution_count": 106
        }
      ]
    }
  ]
}